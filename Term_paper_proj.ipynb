{
  "cells": [
    {
      "cell_type": "code",
      "execution_count": 1,
      "metadata": {
        "colab": {
          "base_uri": "https://localhost:8080/"
        },
        "id": "ABnaVbKshuvy",
        "outputId": "19dfc255-dc06-49e7-e8bb-3204dde6c47a"
      },
      "outputs": [],
      "source": [
        "#from google.colab import drive\n",
        "#drive.mount('/content/drive')"
      ]
    },
    {
      "cell_type": "code",
      "execution_count": 2,
      "metadata": {
        "id": "vUSHElJSjepl"
      },
      "outputs": [],
      "source": [
        "# importing all necessary libs and methods\n",
        "\n",
        "#import os # this library was using in the colab\n",
        "\n",
        "import matplotlib.pyplot as plt\n",
        "import pandas as pd\n",
        "import xgboost as xgb\n",
        "\n",
        "from sklearn.ensemble import RandomForestClassifier, GradientBoostingClassifier\n",
        "from sklearn.linear_model import LogisticRegression\n",
        "from sklearn.metrics import roc_auc_score, make_scorer, roc_curve\n",
        "from sklearn.model_selection import train_test_split, GridSearchCV\n",
        "from sklearn.neighbors import KNeighborsClassifier\n",
        "from sklearn.preprocessing import StandardScaler\n",
        "from sklearn.pipeline import Pipeline\n",
        "from sklearn.svm import SVC\n",
        "from sklearn.tree import DecisionTreeClassifier\n",
        "\n",
        "from catboost import CatBoostClassifier"
      ]
    },
    {
      "cell_type": "code",
      "execution_count": 3,
      "metadata": {
        "id": "6iR-gptnqE1W"
      },
      "outputs": [],
      "source": [
        "SEED = 42 # for reproducibility of the results of the models"
      ]
    },
    {
      "cell_type": "code",
      "execution_count": 4,
      "metadata": {
        "id": "QOplVlOSjncw"
      },
      "outputs": [],
      "source": [
        "pd.set_option('display.max_columns', None)\n",
        "pd.set_option('display.max_rows', None)"
      ]
    },
    {
      "cell_type": "code",
      "execution_count": 5,
      "metadata": {
        "id": "9IDA4k6LjpAY"
      },
      "outputs": [],
      "source": [
        "#base_dir = '/content/drive/MyDrive/Colab Notebooks/DATA'"
      ]
    },
    {
      "cell_type": "code",
      "execution_count": 6,
      "metadata": {
        "id": "BGo0bherjq4c"
      },
      "outputs": [],
      "source": [
        "#data = pd.read_csv(os.path.join(base_dir, 'data.csv'), low_memory=False)\n",
        "data = pd.read_csv('data.csv') # importing data"
      ]
    },
    {
      "cell_type": "code",
      "execution_count": 7,
      "metadata": {
        "id": "hmOKrYGemESy"
      },
      "outputs": [],
      "source": [
        "# transformation of target feature\n",
        "data['IncCategory_Binary'] = data['IncCategory$D'].apply(\n",
        "    lambda x: 1 if x == 'Отчисление' else 0)\n",
        "data = data.drop(columns=['IncCategory$D'])"
      ]
    },
    {
      "cell_type": "code",
      "execution_count": 8,
      "metadata": {
        "id": "BJQWcvki6pGS"
      },
      "outputs": [],
      "source": [
        "# convert data type to datetime\n",
        "cols_to_date = ['FirstAttemptDate', 'ExamDate', 'LastDate', 'BirthDate']\n",
        "for col in cols_to_date:\n",
        "  data[col] = pd.to_datetime(data[col], errors='coerce')"
      ]
    },
    {
      "cell_type": "code",
      "execution_count": 9,
      "metadata": {
        "id": "vGLxdGrUzXgX"
      },
      "outputs": [],
      "source": [
        "# remove duplicate features\n",
        "data = data.drop(columns=['RegDepartment$D_y', 'IsBudget_y',\n",
        "                          'AdmissionYear$N_y', 'Class$D_y', 'Region$D_y',\n",
        "                          'LearnProgram$D_y', 'Speciality$D_y', 'Class$D_x',\n",
        "                          'IncomeReason$N', 'RegDepartment$D_x',\n",
        "                          'StudentClass$D', 'QuitReasonRef$D', 'GradFaculty$D',\n",
        "                          'GradRegDepartment$D', 'FirstTenScaleMark',\n",
        "                          'FirstStrResult', 'FirstAttemptDate', 'FirstMissed',\n",
        "                          'FirstTestMark', 'Faculty$D', 'PrevQualName'])"
      ]
    },
    {
      "cell_type": "code",
      "execution_count": 10,
      "metadata": {
        "id": "kPRYkLtOkp3i"
      },
      "outputs": [],
      "source": [
        "# replacing values\n",
        "data['StrResult'] = data['StrResult'].replace({\n",
        "    \"н/я\": -1,\n",
        "    \"н/я (ув.)\": -2,\n",
        "    \"нет оценки\": -3,\n",
        "    \"-\": -4\n",
        "})\n",
        "data['StrResult'] = pd.to_numeric(data['StrResult'], errors='coerce')"
      ]
    },
    {
      "cell_type": "code",
      "execution_count": 11,
      "metadata": {
        "id": "uiSncN7y0aYg"
      },
      "outputs": [],
      "source": [
        "# function to find the mode or the first value if it doesn't exist\n",
        "def mode_or_first(series):\n",
        "    modes = series.mode()\n",
        "    for mode_value in modes:\n",
        "        if mode_value != \"-\" and (not isinstance(mode_value, (int, float)) or mode_value >= 0):\n",
        "            return mode_value\n",
        "    return series.iloc[0] if not series.empty else None"
      ]
    },
    {
      "cell_type": "code",
      "execution_count": 12,
      "metadata": {
        "id": "8_-ztKJlpm4w"
      },
      "outputs": [],
      "source": [
        "# grouping data with their aggregation by students\n",
        "student_data = data.groupby('CS_new').agg({\n",
        "    'AdmissionYear$N_x': mode_or_first,\n",
        "    'IsBudget_x': mode_or_first,\n",
        "    'Speciality$D_x': mode_or_first,\n",
        "    'Group$D': mode_or_first,\n",
        "    'Region$D_x': mode_or_first,\n",
        "    'Country$D': mode_or_first,\n",
        "    'SubjectType$D': mode_or_first,\n",
        "    'PlanCourse$N': mode_or_first,\n",
        "    'SubjectClass$D': mode_or_first,\n",
        "    'LongName': mode_or_first,\n",
        "    'ControlType$D': mode_or_first,\n",
        "    'RegDepartment$N': mode_or_first,\n",
        "    'MarkSumm': mode_or_first,\n",
        "    'Средняя_оценка': mode_or_first,\n",
        "    'Не_сдано': mode_or_first,\n",
        "    'Сдано': mode_or_first,\n",
        "    'Неуды': mode_or_first,\n",
        "    'Удовл': mode_or_first,\n",
        "    'Хор': mode_or_first,\n",
        "    'Отл': mode_or_first,\n",
        "    'StrResult': ['mean', mode_or_first, 'min', 'max'],\n",
        "    'Missed': ['mean', mode_or_first, 'min', 'max'],\n",
        "    'TestMark': ['mean', mode_or_first, 'min', 'max'],\n",
        "    'TenScaleMark': ['mean', mode_or_first, 'min', 'max'],\n",
        "    'RepassCount': mode_or_first,\n",
        "    'HasFail': ['mean', mode_or_first, 'min', 'max'],\n",
        "    'Sex (1-мужской)': mode_or_first,\n",
        "    'BirthDate': mode_or_first,\n",
        "    'ChargedOlympList': mode_or_first,\n",
        "    'MagAbitCategory$D': mode_or_first,\n",
        "    'Faculty$N': mode_or_first,\n",
        "    'LearnForm$D': mode_or_first,\n",
        "    'University$D': mode_or_first,\n",
        "    'HigherDocSpec$D': mode_or_first,\n",
        "    'AverPrevMark': ['mean', mode_or_first, 'min', 'max'],\n",
        "    'PlaceType$D': mode_or_first,\n",
        "    'КР_сумма': ['mean', mode_or_first, 'min', 'max'],\n",
        "    'IncCategory_Binary': mode_or_first\n",
        "}).reset_index()"
      ]
    },
    {
      "cell_type": "code",
      "execution_count": 13,
      "metadata": {
        "id": "oWWNRGEAuuks"
      },
      "outputs": [],
      "source": [
        "# getting rid of multi-index\n",
        "student_data.columns = ['_'.join(col).strip() \\\n",
        "                        if isinstance(col, tuple) \\\n",
        "                            else col for col in student_data.columns]"
      ]
    },
    {
      "cell_type": "code",
      "execution_count": 14,
      "metadata": {
        "id": "LMGYO_A9nOcZ"
      },
      "outputs": [],
      "source": [
        "# putting column names in order after grouping\n",
        "student_data.columns = ['CS_new', 'AdmissionYear', 'IsBudget', 'Speciality',\n",
        "                        'Group', 'Region', 'Country', 'SubjectType',\n",
        "                        'PlanCourse', 'SubjectClass', 'LongName',\n",
        "                        'ControlType', 'RegDepartment', 'MarkSumm',\n",
        "                        'AverageGrade', 'FailedGrade', 'PassedGrade', 'Failures',\n",
        "                        'Satisfactory', 'Good', 'Excellent', 'StrResult_mean',\n",
        "                        'StrResult_mode', 'StrResult_min', 'StrResult_max',\n",
        "                        'Missed_mean', 'Missed_mode', 'Missed_min',\n",
        "                        'Missed_max', 'TestMark_mean', 'TestMark_mode',\n",
        "                        'TestMark_min', 'TestMark_max', 'TenScaleMark_mean',\n",
        "                        'TenScaleMark_mode', 'TenScaleMark_min',\n",
        "                        'TenScaleMark_max','RepassCount', 'HasFail_mean',\n",
        "                        'HasFail_mode', 'HasFail_min', 'HasFail_max',\n",
        "                        'Sex', 'BirthDate', 'ChargedOlympList',\n",
        "                        'MagAbitCategory', 'Faculty', 'LearnForm',\n",
        "                        'PrevUniversity', 'HigherDocSpec', 'AverPrevMark_mean',\n",
        "                        'AverPrevMark_mode', 'AverPrevMark_min',\n",
        "                        'AverPrevMark_max', 'PlaceType', 'Tests_sum_mean',\n",
        "                        'Tests_sum_mode', 'Tests_sum_min', 'Tests_sum_max',\n",
        "                        'IncCategory']"
      ]
    },
    {
      "cell_type": "code",
      "execution_count": 15,
      "metadata": {
        "id": "Sw6bzh88Dron"
      },
      "outputs": [],
      "source": [
        "# remove extra column\n",
        "student_data = student_data.drop(columns='BirthDate')"
      ]
    },
    {
      "cell_type": "code",
      "execution_count": 16,
      "metadata": {},
      "outputs": [
        {
          "data": {
            "text/html": [
              "<div>\n",
              "<style scoped>\n",
              "    .dataframe tbody tr th:only-of-type {\n",
              "        vertical-align: middle;\n",
              "    }\n",
              "\n",
              "    .dataframe tbody tr th {\n",
              "        vertical-align: top;\n",
              "    }\n",
              "\n",
              "    .dataframe thead th {\n",
              "        text-align: right;\n",
              "    }\n",
              "</style>\n",
              "<table border=\"1\" class=\"dataframe\">\n",
              "  <thead>\n",
              "    <tr style=\"text-align: right;\">\n",
              "      <th></th>\n",
              "      <th>CS_new</th>\n",
              "      <th>AdmissionYear</th>\n",
              "      <th>IsBudget</th>\n",
              "      <th>Speciality</th>\n",
              "      <th>Group</th>\n",
              "      <th>Region</th>\n",
              "      <th>Country</th>\n",
              "      <th>SubjectType</th>\n",
              "      <th>PlanCourse</th>\n",
              "      <th>SubjectClass</th>\n",
              "      <th>LongName</th>\n",
              "      <th>ControlType</th>\n",
              "      <th>RegDepartment</th>\n",
              "      <th>MarkSumm</th>\n",
              "      <th>AverageGrade</th>\n",
              "      <th>FailedGrade</th>\n",
              "      <th>PassedGrade</th>\n",
              "      <th>Failures</th>\n",
              "      <th>Satisfactory</th>\n",
              "      <th>Good</th>\n",
              "      <th>Excellent</th>\n",
              "      <th>StrResult_mean</th>\n",
              "      <th>StrResult_mode</th>\n",
              "      <th>StrResult_min</th>\n",
              "      <th>StrResult_max</th>\n",
              "      <th>Missed_mean</th>\n",
              "      <th>Missed_mode</th>\n",
              "      <th>Missed_min</th>\n",
              "      <th>Missed_max</th>\n",
              "      <th>TestMark_mean</th>\n",
              "      <th>TestMark_mode</th>\n",
              "      <th>TestMark_min</th>\n",
              "      <th>TestMark_max</th>\n",
              "      <th>TenScaleMark_mean</th>\n",
              "      <th>TenScaleMark_mode</th>\n",
              "      <th>TenScaleMark_min</th>\n",
              "      <th>TenScaleMark_max</th>\n",
              "      <th>RepassCount</th>\n",
              "      <th>HasFail_mean</th>\n",
              "      <th>HasFail_mode</th>\n",
              "      <th>HasFail_min</th>\n",
              "      <th>HasFail_max</th>\n",
              "      <th>Sex</th>\n",
              "      <th>ChargedOlympList</th>\n",
              "      <th>MagAbitCategory</th>\n",
              "      <th>Faculty</th>\n",
              "      <th>LearnForm</th>\n",
              "      <th>PrevUniversity</th>\n",
              "      <th>HigherDocSpec</th>\n",
              "      <th>AverPrevMark_mean</th>\n",
              "      <th>AverPrevMark_mode</th>\n",
              "      <th>AverPrevMark_min</th>\n",
              "      <th>AverPrevMark_max</th>\n",
              "      <th>PlaceType</th>\n",
              "      <th>Tests_sum_mean</th>\n",
              "      <th>Tests_sum_mode</th>\n",
              "      <th>Tests_sum_min</th>\n",
              "      <th>Tests_sum_max</th>\n",
              "      <th>IncCategory</th>\n",
              "    </tr>\n",
              "  </thead>\n",
              "  <tbody>\n",
              "    <tr>\n",
              "      <th>0</th>\n",
              "      <td>77407</td>\n",
              "      <td>2020</td>\n",
              "      <td>1</td>\n",
              "      <td>Психология</td>\n",
              "      <td>МСП201</td>\n",
              "      <td>Москва</td>\n",
              "      <td>Российская Федерация</td>\n",
              "      <td>Предмет по выбору</td>\n",
              "      <td>1 курс</td>\n",
              "      <td>Дисциплина</td>\n",
              "      <td>Кросс-культурная психология организационного п...</td>\n",
              "      <td>Экзамен</td>\n",
              "      <td>Москва</td>\n",
              "      <td>71.0</td>\n",
              "      <td>8.073333</td>\n",
              "      <td>0.0</td>\n",
              "      <td>22.0</td>\n",
              "      <td>0.0</td>\n",
              "      <td>0.0</td>\n",
              "      <td>5.0</td>\n",
              "      <td>17.0</td>\n",
              "      <td>8.307692</td>\n",
              "      <td>8</td>\n",
              "      <td>7</td>\n",
              "      <td>10</td>\n",
              "      <td>1.961538</td>\n",
              "      <td>2.0</td>\n",
              "      <td>1.0</td>\n",
              "      <td>2.0</td>\n",
              "      <td>1.000000</td>\n",
              "      <td>1.0</td>\n",
              "      <td>1.0</td>\n",
              "      <td>1.0</td>\n",
              "      <td>8.307692</td>\n",
              "      <td>8.0</td>\n",
              "      <td>7.0</td>\n",
              "      <td>10.0</td>\n",
              "      <td>0.0</td>\n",
              "      <td>0.000000</td>\n",
              "      <td>0.0</td>\n",
              "      <td>0.0</td>\n",
              "      <td>0.0</td>\n",
              "      <td>0.0</td>\n",
              "      <td>-</td>\n",
              "      <td>выпускник другого ВУЗа</td>\n",
              "      <td>М факультет социальных наук</td>\n",
              "      <td>очная форма обучения</td>\n",
              "      <td>Torrens University</td>\n",
              "      <td>-</td>\n",
              "      <td>-1.0</td>\n",
              "      <td>-1.0</td>\n",
              "      <td>-1.0</td>\n",
              "      <td>-1.0</td>\n",
              "      <td>Коммерческие места</td>\n",
              "      <td>736.15</td>\n",
              "      <td>736.15</td>\n",
              "      <td>736.15</td>\n",
              "      <td>736.15</td>\n",
              "      <td>0</td>\n",
              "    </tr>\n",
              "    <tr>\n",
              "      <th>1</th>\n",
              "      <td>85609</td>\n",
              "      <td>2018</td>\n",
              "      <td>0</td>\n",
              "      <td>Градостроительство</td>\n",
              "      <td>-</td>\n",
              "      <td>Москва</td>\n",
              "      <td>Российская Федерация</td>\n",
              "      <td>Обязательный предмет</td>\n",
              "      <td>1 курс</td>\n",
              "      <td>Дисциплина</td>\n",
              "      <td>Аналитическое чтение по урбанистике</td>\n",
              "      <td>Экзамен</td>\n",
              "      <td>Москва</td>\n",
              "      <td>75.0</td>\n",
              "      <td>0.000000</td>\n",
              "      <td>2.0</td>\n",
              "      <td>0.0</td>\n",
              "      <td>0.0</td>\n",
              "      <td>0.0</td>\n",
              "      <td>0.0</td>\n",
              "      <td>0.0</td>\n",
              "      <td>0.000000</td>\n",
              "      <td>0</td>\n",
              "      <td>0</td>\n",
              "      <td>0</td>\n",
              "      <td>2.000000</td>\n",
              "      <td>2.0</td>\n",
              "      <td>2.0</td>\n",
              "      <td>2.0</td>\n",
              "      <td>0.000000</td>\n",
              "      <td>0.0</td>\n",
              "      <td>0.0</td>\n",
              "      <td>0.0</td>\n",
              "      <td>0.000000</td>\n",
              "      <td>0.0</td>\n",
              "      <td>0.0</td>\n",
              "      <td>0.0</td>\n",
              "      <td>0.0</td>\n",
              "      <td>1.000000</td>\n",
              "      <td>1.0</td>\n",
              "      <td>1.0</td>\n",
              "      <td>1.0</td>\n",
              "      <td>0.0</td>\n",
              "      <td>-</td>\n",
              "      <td>выпускник другого ВУЗа</td>\n",
              "      <td>М Высшая школа урбанистики имени А.А. Высоковс...</td>\n",
              "      <td>очная форма обучения</td>\n",
              "      <td>Национальный исследовательский университет \"Вы...</td>\n",
              "      <td>-</td>\n",
              "      <td>-1.0</td>\n",
              "      <td>-1.0</td>\n",
              "      <td>-1.0</td>\n",
              "      <td>-1.0</td>\n",
              "      <td>Коммерческие места</td>\n",
              "      <td>0.00</td>\n",
              "      <td>0.00</td>\n",
              "      <td>0.00</td>\n",
              "      <td>0.00</td>\n",
              "      <td>0</td>\n",
              "    </tr>\n",
              "    <tr>\n",
              "      <th>2</th>\n",
              "      <td>224509</td>\n",
              "      <td>2019</td>\n",
              "      <td>0</td>\n",
              "      <td>Прикладная математика и информатика</td>\n",
              "      <td>-</td>\n",
              "      <td>Москва</td>\n",
              "      <td>Российская Федерация</td>\n",
              "      <td>Обязательный предмет</td>\n",
              "      <td>1 курс</td>\n",
              "      <td>Дисциплина</td>\n",
              "      <td>Научно-исследовательский семинар</td>\n",
              "      <td>Экзамен</td>\n",
              "      <td>Москва</td>\n",
              "      <td>87.0</td>\n",
              "      <td>6.347500</td>\n",
              "      <td>0.0</td>\n",
              "      <td>22.0</td>\n",
              "      <td>0.0</td>\n",
              "      <td>6.0</td>\n",
              "      <td>7.0</td>\n",
              "      <td>8.0</td>\n",
              "      <td>6.681818</td>\n",
              "      <td>10</td>\n",
              "      <td>0</td>\n",
              "      <td>10</td>\n",
              "      <td>2.000000</td>\n",
              "      <td>2.0</td>\n",
              "      <td>2.0</td>\n",
              "      <td>2.0</td>\n",
              "      <td>0.954545</td>\n",
              "      <td>1.0</td>\n",
              "      <td>0.0</td>\n",
              "      <td>1.0</td>\n",
              "      <td>6.681818</td>\n",
              "      <td>10.0</td>\n",
              "      <td>0.0</td>\n",
              "      <td>10.0</td>\n",
              "      <td>0.0</td>\n",
              "      <td>0.181818</td>\n",
              "      <td>0.0</td>\n",
              "      <td>0.0</td>\n",
              "      <td>1.0</td>\n",
              "      <td>1.0</td>\n",
              "      <td>-</td>\n",
              "      <td>выпускник другого ВУЗа</td>\n",
              "      <td>М факультет компьютерных наук</td>\n",
              "      <td>очная форма обучения</td>\n",
              "      <td>Финансовый университет при Правительстве РФ</td>\n",
              "      <td>Финансы и кредит</td>\n",
              "      <td>-1.0</td>\n",
              "      <td>-1.0</td>\n",
              "      <td>-1.0</td>\n",
              "      <td>-1.0</td>\n",
              "      <td>Коммерческие места</td>\n",
              "      <td>1046.20</td>\n",
              "      <td>1046.20</td>\n",
              "      <td>1046.20</td>\n",
              "      <td>1046.20</td>\n",
              "      <td>0</td>\n",
              "    </tr>\n",
              "    <tr>\n",
              "      <th>3</th>\n",
              "      <td>250288</td>\n",
              "      <td>2018</td>\n",
              "      <td>1</td>\n",
              "      <td>Юриспруденция</td>\n",
              "      <td>-</td>\n",
              "      <td>Республика Татарстан</td>\n",
              "      <td>Российская Федерация</td>\n",
              "      <td>Обязательный предмет</td>\n",
              "      <td>1 курс</td>\n",
              "      <td>Дисциплина</td>\n",
              "      <td>История политических, правовых и религиозных у...</td>\n",
              "      <td>Экзамен</td>\n",
              "      <td>Москва</td>\n",
              "      <td>95.0</td>\n",
              "      <td>7.886667</td>\n",
              "      <td>0.0</td>\n",
              "      <td>18.0</td>\n",
              "      <td>0.0</td>\n",
              "      <td>2.0</td>\n",
              "      <td>7.0</td>\n",
              "      <td>9.0</td>\n",
              "      <td>7.500000</td>\n",
              "      <td>9</td>\n",
              "      <td>4</td>\n",
              "      <td>10</td>\n",
              "      <td>2.000000</td>\n",
              "      <td>2.0</td>\n",
              "      <td>2.0</td>\n",
              "      <td>2.0</td>\n",
              "      <td>1.000000</td>\n",
              "      <td>1.0</td>\n",
              "      <td>1.0</td>\n",
              "      <td>1.0</td>\n",
              "      <td>7.500000</td>\n",
              "      <td>9.0</td>\n",
              "      <td>4.0</td>\n",
              "      <td>10.0</td>\n",
              "      <td>0.0</td>\n",
              "      <td>0.055556</td>\n",
              "      <td>0.0</td>\n",
              "      <td>0.0</td>\n",
              "      <td>1.0</td>\n",
              "      <td>1.0</td>\n",
              "      <td>-</td>\n",
              "      <td>выпускник другого ВУЗа</td>\n",
              "      <td>М Высшая школа юриспруденции и администрирования</td>\n",
              "      <td>очная форма обучения</td>\n",
              "      <td>Московский педагогический государственный унив...</td>\n",
              "      <td>Русский язык и литература</td>\n",
              "      <td>-1.0</td>\n",
              "      <td>-1.0</td>\n",
              "      <td>-1.0</td>\n",
              "      <td>-1.0</td>\n",
              "      <td>Бюджетные места</td>\n",
              "      <td>530.00</td>\n",
              "      <td>530.00</td>\n",
              "      <td>530.00</td>\n",
              "      <td>530.00</td>\n",
              "      <td>0</td>\n",
              "    </tr>\n",
              "    <tr>\n",
              "      <th>4</th>\n",
              "      <td>261526</td>\n",
              "      <td>2019</td>\n",
              "      <td>0</td>\n",
              "      <td>История</td>\n",
              "      <td>-</td>\n",
              "      <td>Москва</td>\n",
              "      <td>Российская Федерация</td>\n",
              "      <td>Обязательный предмет</td>\n",
              "      <td>1 курс</td>\n",
              "      <td>Дисциплина</td>\n",
              "      <td>Естественнонаучные методы в археологии, физиче...</td>\n",
              "      <td>Экзамен</td>\n",
              "      <td>Москва</td>\n",
              "      <td>87.0</td>\n",
              "      <td>8.750000</td>\n",
              "      <td>0.0</td>\n",
              "      <td>16.0</td>\n",
              "      <td>0.0</td>\n",
              "      <td>0.0</td>\n",
              "      <td>2.0</td>\n",
              "      <td>14.0</td>\n",
              "      <td>8.750000</td>\n",
              "      <td>9</td>\n",
              "      <td>6</td>\n",
              "      <td>10</td>\n",
              "      <td>2.000000</td>\n",
              "      <td>2.0</td>\n",
              "      <td>2.0</td>\n",
              "      <td>2.0</td>\n",
              "      <td>1.000000</td>\n",
              "      <td>1.0</td>\n",
              "      <td>1.0</td>\n",
              "      <td>1.0</td>\n",
              "      <td>8.750000</td>\n",
              "      <td>9.0</td>\n",
              "      <td>6.0</td>\n",
              "      <td>10.0</td>\n",
              "      <td>0.0</td>\n",
              "      <td>0.000000</td>\n",
              "      <td>0.0</td>\n",
              "      <td>0.0</td>\n",
              "      <td>0.0</td>\n",
              "      <td>0.0</td>\n",
              "      <td>-</td>\n",
              "      <td>выпускник другого ВУЗа</td>\n",
              "      <td>М факультет гуманитарных наук</td>\n",
              "      <td>очная форма обучения</td>\n",
              "      <td>МГУ им М.В. Ломоносова, филиал в Ташкенте</td>\n",
              "      <td>БИОЛОГИЧЕСКИЕ НАУКИ</td>\n",
              "      <td>-1.0</td>\n",
              "      <td>-1.0</td>\n",
              "      <td>-1.0</td>\n",
              "      <td>-1.0</td>\n",
              "      <td>Коммерческие места</td>\n",
              "      <td>554.54</td>\n",
              "      <td>554.54</td>\n",
              "      <td>554.54</td>\n",
              "      <td>554.54</td>\n",
              "      <td>0</td>\n",
              "    </tr>\n",
              "  </tbody>\n",
              "</table>\n",
              "</div>"
            ],
            "text/plain": [
              "   CS_new  AdmissionYear  IsBudget                           Speciality  \\\n",
              "0   77407           2020         1                           Психология   \n",
              "1   85609           2018         0                   Градостроительство   \n",
              "2  224509           2019         0  Прикладная математика и информатика   \n",
              "3  250288           2018         1                        Юриспруденция   \n",
              "4  261526           2019         0                              История   \n",
              "\n",
              "    Group                Region               Country           SubjectType  \\\n",
              "0  МСП201                Москва  Российская Федерация     Предмет по выбору   \n",
              "1       -                Москва  Российская Федерация  Обязательный предмет   \n",
              "2       -                Москва  Российская Федерация  Обязательный предмет   \n",
              "3       -  Республика Татарстан  Российская Федерация  Обязательный предмет   \n",
              "4       -                Москва  Российская Федерация  Обязательный предмет   \n",
              "\n",
              "  PlanCourse SubjectClass                                           LongName  \\\n",
              "0     1 курс   Дисциплина  Кросс-культурная психология организационного п...   \n",
              "1     1 курс   Дисциплина                Аналитическое чтение по урбанистике   \n",
              "2     1 курс   Дисциплина                   Научно-исследовательский семинар   \n",
              "3     1 курс   Дисциплина  История политических, правовых и религиозных у...   \n",
              "4     1 курс   Дисциплина  Естественнонаучные методы в археологии, физиче...   \n",
              "\n",
              "  ControlType RegDepartment  MarkSumm  AverageGrade  FailedGrade  PassedGrade  \\\n",
              "0     Экзамен        Москва      71.0      8.073333          0.0         22.0   \n",
              "1     Экзамен        Москва      75.0      0.000000          2.0          0.0   \n",
              "2     Экзамен        Москва      87.0      6.347500          0.0         22.0   \n",
              "3     Экзамен        Москва      95.0      7.886667          0.0         18.0   \n",
              "4     Экзамен        Москва      87.0      8.750000          0.0         16.0   \n",
              "\n",
              "   Failures  Satisfactory  Good  Excellent  StrResult_mean  StrResult_mode  \\\n",
              "0       0.0           0.0   5.0       17.0        8.307692               8   \n",
              "1       0.0           0.0   0.0        0.0        0.000000               0   \n",
              "2       0.0           6.0   7.0        8.0        6.681818              10   \n",
              "3       0.0           2.0   7.0        9.0        7.500000               9   \n",
              "4       0.0           0.0   2.0       14.0        8.750000               9   \n",
              "\n",
              "   StrResult_min  StrResult_max  Missed_mean  Missed_mode  Missed_min  \\\n",
              "0              7             10     1.961538          2.0         1.0   \n",
              "1              0              0     2.000000          2.0         2.0   \n",
              "2              0             10     2.000000          2.0         2.0   \n",
              "3              4             10     2.000000          2.0         2.0   \n",
              "4              6             10     2.000000          2.0         2.0   \n",
              "\n",
              "   Missed_max  TestMark_mean  TestMark_mode  TestMark_min  TestMark_max  \\\n",
              "0         2.0       1.000000            1.0           1.0           1.0   \n",
              "1         2.0       0.000000            0.0           0.0           0.0   \n",
              "2         2.0       0.954545            1.0           0.0           1.0   \n",
              "3         2.0       1.000000            1.0           1.0           1.0   \n",
              "4         2.0       1.000000            1.0           1.0           1.0   \n",
              "\n",
              "   TenScaleMark_mean  TenScaleMark_mode  TenScaleMark_min  TenScaleMark_max  \\\n",
              "0           8.307692                8.0               7.0              10.0   \n",
              "1           0.000000                0.0               0.0               0.0   \n",
              "2           6.681818               10.0               0.0              10.0   \n",
              "3           7.500000                9.0               4.0              10.0   \n",
              "4           8.750000                9.0               6.0              10.0   \n",
              "\n",
              "   RepassCount  HasFail_mean  HasFail_mode  HasFail_min  HasFail_max  Sex  \\\n",
              "0          0.0      0.000000           0.0          0.0          0.0  0.0   \n",
              "1          0.0      1.000000           1.0          1.0          1.0  0.0   \n",
              "2          0.0      0.181818           0.0          0.0          1.0  1.0   \n",
              "3          0.0      0.055556           0.0          0.0          1.0  1.0   \n",
              "4          0.0      0.000000           0.0          0.0          0.0  0.0   \n",
              "\n",
              "  ChargedOlympList         MagAbitCategory  \\\n",
              "0                -  выпускник другого ВУЗа   \n",
              "1                -  выпускник другого ВУЗа   \n",
              "2                -  выпускник другого ВУЗа   \n",
              "3                -  выпускник другого ВУЗа   \n",
              "4                -  выпускник другого ВУЗа   \n",
              "\n",
              "                                             Faculty             LearnForm  \\\n",
              "0                        М факультет социальных наук  очная форма обучения   \n",
              "1  М Высшая школа урбанистики имени А.А. Высоковс...  очная форма обучения   \n",
              "2                      М факультет компьютерных наук  очная форма обучения   \n",
              "3   М Высшая школа юриспруденции и администрирования  очная форма обучения   \n",
              "4                      М факультет гуманитарных наук  очная форма обучения   \n",
              "\n",
              "                                      PrevUniversity  \\\n",
              "0                                 Torrens University   \n",
              "1  Национальный исследовательский университет \"Вы...   \n",
              "2        Финансовый университет при Правительстве РФ   \n",
              "3  Московский педагогический государственный унив...   \n",
              "4          МГУ им М.В. Ломоносова, филиал в Ташкенте   \n",
              "\n",
              "               HigherDocSpec  AverPrevMark_mean  AverPrevMark_mode  \\\n",
              "0                          -               -1.0               -1.0   \n",
              "1                          -               -1.0               -1.0   \n",
              "2           Финансы и кредит               -1.0               -1.0   \n",
              "3  Русский язык и литература               -1.0               -1.0   \n",
              "4        БИОЛОГИЧЕСКИЕ НАУКИ               -1.0               -1.0   \n",
              "\n",
              "   AverPrevMark_min  AverPrevMark_max           PlaceType  Tests_sum_mean  \\\n",
              "0              -1.0              -1.0  Коммерческие места          736.15   \n",
              "1              -1.0              -1.0  Коммерческие места            0.00   \n",
              "2              -1.0              -1.0  Коммерческие места         1046.20   \n",
              "3              -1.0              -1.0     Бюджетные места          530.00   \n",
              "4              -1.0              -1.0  Коммерческие места          554.54   \n",
              "\n",
              "   Tests_sum_mode  Tests_sum_min  Tests_sum_max  IncCategory  \n",
              "0          736.15         736.15         736.15            0  \n",
              "1            0.00           0.00           0.00            0  \n",
              "2         1046.20        1046.20        1046.20            0  \n",
              "3          530.00         530.00         530.00            0  \n",
              "4          554.54         554.54         554.54            0  "
            ]
          },
          "execution_count": 16,
          "metadata": {},
          "output_type": "execute_result"
        }
      ],
      "source": [
        "student_data.head()"
      ]
    },
    {
      "cell_type": "code",
      "execution_count": 17,
      "metadata": {
        "id": "IJY6mHVjnVHY"
      },
      "outputs": [],
      "source": [
        "# create a variable responsible for categorical features\n",
        "categorical_features = student_data.select_dtypes(\n",
        "    include=['object', 'category']\n",
        "    ).columns.tolist()"
      ]
    },
    {
      "cell_type": "code",
      "execution_count": 18,
      "metadata": {
        "id": "GBKiPc-1lj2Q"
      },
      "outputs": [],
      "source": [
        "# encoding categorical features using OHE\n",
        "student_data_encoded = pd.get_dummies(student_data,\n",
        "                                      columns=categorical_features,\n",
        "                                      drop_first=True)"
      ]
    },
    {
      "cell_type": "code",
      "execution_count": 19,
      "metadata": {
        "id": "YpRd_OQEohLt"
      },
      "outputs": [],
      "source": [
        "# splitting the dataset into dependent (y) and independent (X) variables\n",
        "X = student_data_encoded.drop(columns=['IncCategory', 'CS_new'])\n",
        "y = student_data_encoded['IncCategory']\n",
        "\n",
        "# divide the samples into training and testing\n",
        "X_train, X_test, y_train, y_test = train_test_split(\n",
        "    X, y, test_size=0.2, random_state=SEED, stratify=y)"
      ]
    },
    {
      "cell_type": "markdown",
      "metadata": {},
      "source": [
        "### Logistic Regression"
      ]
    },
    {
      "cell_type": "code",
      "execution_count": 20,
      "metadata": {
        "colab": {
          "base_uri": "https://localhost:8080/",
          "height": 168
        },
        "id": "0pVdz8u3org4",
        "outputId": "1f9311e8-e810-4174-8881-b062eeee226c"
      },
      "outputs": [
        {
          "name": "stderr",
          "output_type": "stream",
          "text": [
            "C:\\Users\\Олег\\AppData\\Local\\Packages\\PythonSoftwareFoundation.Python.3.11_qbz5n2kfra8p0\\LocalCache\\local-packages\\Python311\\site-packages\\sklearn\\metrics\\_scorer.py:610: FutureWarning: The `needs_threshold` and `needs_proba` parameter are deprecated in version 1.4 and will be removed in 1.6. You can either let `response_method` be `None` or set it to `predict` to preserve the same behaviour.\n",
            "  warnings.warn(\n"
          ]
        },
        {
          "name": "stdout",
          "output_type": "stream",
          "text": [
            "Fitting 5 folds for each of 10 candidates, totalling 50 fits\n",
            "Best hyperparameters: {'logreg__C': 0.01, 'logreg__penalty': 'l2'}\n",
            "Best score: 0.65378\n"
          ]
        }
      ],
      "source": [
        "# create a scaling object\n",
        "scaler = StandardScaler()\n",
        "\n",
        "# create a logistic regression object\n",
        "logreg = LogisticRegression(solver='liblinear', random_state=SEED)\n",
        "\n",
        "# hyperparameter grid\n",
        "param_grid = {\n",
        "    'logreg__C': [0.01, 0.1, 1, 10, 100], # regularization strength\n",
        "    'logreg__penalty': ['l1', 'l2'] # type of penalty\n",
        "}\n",
        "\n",
        "# pipeline for sequential application of functions\n",
        "pipeline = Pipeline([\n",
        "    ('scaler', scaler),\n",
        "    ('logreg', logreg)\n",
        "])\n",
        "\n",
        "# metric calculation function\n",
        "scorer = make_scorer(roc_auc_score, needs_proba=True)\n",
        "\n",
        "# object for hyperparameter selection\n",
        "grid_search_lr = GridSearchCV(pipeline, param_grid,\n",
        "                           cv=5, scoring=scorer,\n",
        "                           verbose=1, n_jobs=-1)\n",
        "\n",
        "# selection of hyperparameters on the training sample\n",
        "grid_search_lr.fit(X_train, y_train)\n",
        "\n",
        "# fixing the best result\n",
        "best_logreg = grid_search_lr.best_score_\n",
        "\n",
        "# output the best hyperparameters and the best result\n",
        "print(f'Best hyperparameters: {grid_search_lr.best_params_}')\n",
        "print(f'Best score: {round(best_logreg, 5)}')\n",
        "\n",
        "# all subsequent models are designed according to the same logic\n",
        "# so I did not add comments to them"
      ]
    },
    {
      "cell_type": "markdown",
      "metadata": {},
      "source": [
        "### K-nearest neighbors"
      ]
    },
    {
      "cell_type": "code",
      "execution_count": 21,
      "metadata": {
        "colab": {
          "base_uri": "https://localhost:8080/"
        },
        "id": "wY_ZBtQyKs7y",
        "outputId": "47762af7-94bf-43ec-8b79-fb5777f8c778"
      },
      "outputs": [
        {
          "name": "stdout",
          "output_type": "stream",
          "text": [
            "Fitting 5 folds for each of 12 candidates, totalling 60 fits\n"
          ]
        },
        {
          "name": "stderr",
          "output_type": "stream",
          "text": [
            "C:\\Users\\Олег\\AppData\\Local\\Packages\\PythonSoftwareFoundation.Python.3.11_qbz5n2kfra8p0\\LocalCache\\local-packages\\Python311\\site-packages\\sklearn\\metrics\\_scorer.py:610: FutureWarning: The `needs_threshold` and `needs_proba` parameter are deprecated in version 1.4 and will be removed in 1.6. You can either let `response_method` be `None` or set it to `predict` to preserve the same behaviour.\n",
            "  warnings.warn(\n"
          ]
        },
        {
          "name": "stdout",
          "output_type": "stream",
          "text": [
            "Best hyperparameters: {'knn__n_neighbors': 9, 'knn__p': 1, 'knn__weights': 'distance'}\n",
            "Best score: 0.60096\n"
          ]
        }
      ],
      "source": [
        "scaler = StandardScaler()\n",
        "\n",
        "knn = KNeighborsClassifier()\n",
        "\n",
        "param_grid = {\n",
        "    'knn__n_neighbors': [7, 9, 11],  # number of neighbors\n",
        "    'knn__weights': ['uniform', 'distance'],  # scale options\n",
        "    'knn__p': [1, 2]  # distance type: 1 - Manhattan, 2 - Euclidean\n",
        "}\n",
        "\n",
        "pipeline = Pipeline([\n",
        "    ('scaler', scaler),\n",
        "    ('knn', knn)\n",
        "])\n",
        "\n",
        "scorer = make_scorer(roc_auc_score, needs_proba=True)\n",
        "\n",
        "grid_search_knn = GridSearchCV(pipeline, param_grid,\n",
        "                           cv=5, scoring=scorer,\n",
        "                           verbose=1, n_jobs=-1)\n",
        "\n",
        "grid_search_knn.fit(X_train, y_train)\n",
        "\n",
        "best_knn = grid_search_knn.best_score_\n",
        "\n",
        "print(f'Best hyperparameters: {grid_search_knn.best_params_}')\n",
        "print(f'Best score: {round(best_knn, 5)}')"
      ]
    },
    {
      "cell_type": "markdown",
      "metadata": {},
      "source": [
        "### Decision Tree Classifier"
      ]
    },
    {
      "cell_type": "code",
      "execution_count": 22,
      "metadata": {
        "colab": {
          "base_uri": "https://localhost:8080/"
        },
        "id": "sMyaYWfsRDCG",
        "outputId": "f42893cb-ccfb-40bd-b134-6ecca19ff5e7"
      },
      "outputs": [
        {
          "name": "stdout",
          "output_type": "stream",
          "text": [
            "Fitting 5 folds for each of 27 candidates, totalling 135 fits\n"
          ]
        },
        {
          "name": "stderr",
          "output_type": "stream",
          "text": [
            "C:\\Users\\Олег\\AppData\\Local\\Packages\\PythonSoftwareFoundation.Python.3.11_qbz5n2kfra8p0\\LocalCache\\local-packages\\Python311\\site-packages\\sklearn\\metrics\\_scorer.py:610: FutureWarning: The `needs_threshold` and `needs_proba` parameter are deprecated in version 1.4 and will be removed in 1.6. You can either let `response_method` be `None` or set it to `predict` to preserve the same behaviour.\n",
            "  warnings.warn(\n"
          ]
        },
        {
          "name": "stdout",
          "output_type": "stream",
          "text": [
            "Best hyperparameters: {'decision_tree__max_depth': 3, 'decision_tree__min_samples_leaf': 6, 'decision_tree__min_samples_split': 3}\n",
            "Best score: 0.60534\n"
          ]
        }
      ],
      "source": [
        "scaler = StandardScaler()\n",
        "\n",
        "decision_tree = DecisionTreeClassifier(random_state=SEED)\n",
        "\n",
        "param_grid = {\n",
        "    'decision_tree__max_depth': [3, 5, 7], # maximum tree depth\n",
        "    'decision_tree__min_samples_split': [3, 5, 8],  # minimum samples to split a node\n",
        "    'decision_tree__min_samples_leaf': [2, 4, 6]  # minimum samples in leaf\n",
        "}\n",
        "\n",
        "pipeline = Pipeline([\n",
        "    ('scaler', scaler),\n",
        "    ('decision_tree', decision_tree)\n",
        "])\n",
        "\n",
        "scorer = make_scorer(roc_auc_score, needs_proba=True)\n",
        "\n",
        "grid_search_tree = GridSearchCV(pipeline, param_grid,\n",
        "                           cv=5, scoring=scorer,\n",
        "                           verbose=1, n_jobs=-1)\n",
        "\n",
        "grid_search_tree.fit(X_train, y_train)\n",
        "\n",
        "best_tree = grid_search_tree.best_score_\n",
        "\n",
        "print(f'Best hyperparameters: {grid_search_tree.best_params_}')\n",
        "print(f'Best score: {round(best_tree, 5)}')"
      ]
    },
    {
      "cell_type": "markdown",
      "metadata": {},
      "source": [
        "### Random Forest Classifier"
      ]
    },
    {
      "cell_type": "code",
      "execution_count": 23,
      "metadata": {
        "colab": {
          "base_uri": "https://localhost:8080/"
        },
        "id": "keoKtamAYAIj",
        "outputId": "3f97b68e-7f72-4eff-c7de-ff0d9e15cdf9"
      },
      "outputs": [
        {
          "name": "stdout",
          "output_type": "stream",
          "text": [
            "Fitting 5 folds for each of 36 candidates, totalling 180 fits\n"
          ]
        },
        {
          "name": "stderr",
          "output_type": "stream",
          "text": [
            "C:\\Users\\Олег\\AppData\\Local\\Packages\\PythonSoftwareFoundation.Python.3.11_qbz5n2kfra8p0\\LocalCache\\local-packages\\Python311\\site-packages\\sklearn\\metrics\\_scorer.py:610: FutureWarning: The `needs_threshold` and `needs_proba` parameter are deprecated in version 1.4 and will be removed in 1.6. You can either let `response_method` be `None` or set it to `predict` to preserve the same behaviour.\n",
            "  warnings.warn(\n"
          ]
        },
        {
          "name": "stdout",
          "output_type": "stream",
          "text": [
            "Best hyperparameters: {'random_forest__max_depth': 10, 'random_forest__min_samples_leaf': 1, 'random_forest__min_samples_split': 10, 'random_forest__n_estimators': 100}\n",
            "Best score: 0.86086\n"
          ]
        }
      ],
      "source": [
        "scaler = StandardScaler()\n",
        "\n",
        "random_forest = RandomForestClassifier(random_state=SEED)\n",
        "\n",
        "param_grid = {\n",
        "    'random_forest__n_estimators': [100, 200, 300],  # number of trees\n",
        "    'random_forest__max_depth': [10, 15],  # maximum depth\n",
        "    'random_forest__min_samples_split': [5, 10, 20], # minimum samples to split a node\n",
        "    'random_forest__min_samples_leaf': [1, 2]  # minimum samples in leaf\n",
        "}\n",
        "\n",
        "pipeline = Pipeline([\n",
        "    ('scaler', scaler),\n",
        "    ('random_forest', random_forest)\n",
        "])\n",
        "\n",
        "scorer = make_scorer(roc_auc_score, needs_proba=True)\n",
        "\n",
        "grid_search_forest = GridSearchCV(pipeline, param_grid,\n",
        "                           cv=5, scoring=scorer,\n",
        "                           verbose=1, n_jobs=-1)\n",
        "\n",
        "grid_search_forest.fit(X_train, y_train)\n",
        "\n",
        "best_forest = grid_search_forest.best_score_\n",
        "\n",
        "print(f'Best hyperparameters: {grid_search_forest.best_params_}')\n",
        "print(f'Best score: {round(best_forest, 5)}')"
      ]
    },
    {
      "cell_type": "markdown",
      "metadata": {},
      "source": [
        "### Gradient Boosting Classifier"
      ]
    },
    {
      "cell_type": "code",
      "execution_count": 24,
      "metadata": {
        "colab": {
          "background_save": true,
          "base_uri": "https://localhost:8080/"
        },
        "id": "AgXE_avMaRMx",
        "outputId": "7c12de06-cce1-4b93-be82-8a63aaf74ce8"
      },
      "outputs": [
        {
          "name": "stdout",
          "output_type": "stream",
          "text": [
            "Fitting 5 folds for each of 72 candidates, totalling 360 fits\n"
          ]
        },
        {
          "name": "stderr",
          "output_type": "stream",
          "text": [
            "C:\\Users\\Олег\\AppData\\Local\\Packages\\PythonSoftwareFoundation.Python.3.11_qbz5n2kfra8p0\\LocalCache\\local-packages\\Python311\\site-packages\\sklearn\\metrics\\_scorer.py:610: FutureWarning: The `needs_threshold` and `needs_proba` parameter are deprecated in version 1.4 and will be removed in 1.6. You can either let `response_method` be `None` or set it to `predict` to preserve the same behaviour.\n",
            "  warnings.warn(\n"
          ]
        },
        {
          "name": "stdout",
          "output_type": "stream",
          "text": [
            "Best hyperparameters: {'gb_clf__learning_rate': 0.01, 'gb_clf__max_depth': 3, 'gb_clf__min_samples_leaf': 4, 'gb_clf__min_samples_split': 5, 'gb_clf__n_estimators': 100}\n",
            "Best score: 0.873\n"
          ]
        }
      ],
      "source": [
        "scaler = StandardScaler()\n",
        "\n",
        "gb_clf = GradientBoostingClassifier(random_state=SEED)\n",
        "\n",
        "param_grid = {\n",
        "    'gb_clf__n_estimators': [50, 100, 200],  # number of trees\n",
        "    'gb_clf__learning_rate': [0.01, 0.1],  # learning rate\n",
        "    'gb_clf__max_depth': [3, 5, 7],  # maximum tree depth\n",
        "    'gb_clf__min_samples_split': [5, 10],  # minimum samples to split a node\n",
        "    'gb_clf__min_samples_leaf': [2, 4]  # minimum samples in leaf\n",
        "}\n",
        "\n",
        "pipeline = Pipeline([\n",
        "    ('scaler', scaler),\n",
        "    ('gb_clf', gb_clf)\n",
        "])\n",
        "\n",
        "scorer = make_scorer(roc_auc_score, needs_proba=True)\n",
        "\n",
        "grid_search_gbc = GridSearchCV(pipeline, param_grid,\n",
        "                           cv=5, scoring=scorer,\n",
        "                           verbose=2, n_jobs=-1)\n",
        "\n",
        "grid_search_gbc.fit(X_train, y_train)\n",
        "\n",
        "best_gb = grid_search_gbc.best_score_\n",
        "\n",
        "print(f'Best hyperparameters: {grid_search_gbc.best_params_}')\n",
        "print(f'Best score: {round(best_gb, 5)}')"
      ]
    },
    {
      "cell_type": "markdown",
      "metadata": {},
      "source": [
        "### XGBoost Classifier"
      ]
    },
    {
      "cell_type": "code",
      "execution_count": 25,
      "metadata": {
        "id": "8QwkJikVi7PG"
      },
      "outputs": [
        {
          "name": "stdout",
          "output_type": "stream",
          "text": [
            "Fitting 5 folds for each of 64 candidates, totalling 320 fits\n"
          ]
        },
        {
          "name": "stderr",
          "output_type": "stream",
          "text": [
            "C:\\Users\\Олег\\AppData\\Local\\Packages\\PythonSoftwareFoundation.Python.3.11_qbz5n2kfra8p0\\LocalCache\\local-packages\\Python311\\site-packages\\sklearn\\metrics\\_scorer.py:610: FutureWarning: The `needs_threshold` and `needs_proba` parameter are deprecated in version 1.4 and will be removed in 1.6. You can either let `response_method` be `None` or set it to `predict` to preserve the same behaviour.\n",
            "  warnings.warn(\n",
            "C:\\Users\\Олег\\AppData\\Local\\Packages\\PythonSoftwareFoundation.Python.3.11_qbz5n2kfra8p0\\LocalCache\\local-packages\\Python311\\site-packages\\xgboost\\core.py:158: UserWarning: [08:46:36] WARNING: C:\\buildkite-agent\\builds\\buildkite-windows-cpu-autoscaling-group-i-0015a694724fa8361-1\\xgboost\\xgboost-ci-windows\\src\\learner.cc:740: \n",
            "Parameters: { \"use_label_encoder\" } are not used.\n",
            "\n",
            "  warnings.warn(smsg, UserWarning)\n"
          ]
        },
        {
          "name": "stdout",
          "output_type": "stream",
          "text": [
            "Best hyperparameters: {'xgb_clf__colsample_bytree': 0.8, 'xgb_clf__gamma': 0.2, 'xgb_clf__learning_rate': 0.01, 'xgb_clf__max_depth': 3, 'xgb_clf__n_estimators': 100, 'xgb_clf__subsample': 0.8}\n",
            "Best score: 0.89525\n"
          ]
        }
      ],
      "source": [
        "scaler = StandardScaler()\n",
        "\n",
        "xgb_clf = xgb.XGBClassifier(random_state=SEED, use_label_encoder=False, eval_metric='logloss')\n",
        "\n",
        "param_grid = {\n",
        "    'xgb_clf__n_estimators': [100, 200],  # number of trees\n",
        "    'xgb_clf__learning_rate': [0.01, 0.1],  # learning rate\n",
        "    'xgb_clf__max_depth': [3, 5],  # maximum tree depth\n",
        "    'xgb_clf__subsample': [0.8, 1.0],  # sample fraction for each tree\n",
        "    'xgb_clf__colsample_bytree': [0.8, 1.0],  # share of features for each tree\n",
        "    'xgb_clf__gamma': [0.1, 0.2],  # minimum loss reduction for node splitting\n",
        "}\n",
        "\n",
        "pipeline = Pipeline([\n",
        "    ('scaler', scaler),\n",
        "    ('xgb_clf', xgb_clf)\n",
        "])\n",
        "\n",
        "scorer = make_scorer(roc_auc_score, needs_proba=True)\n",
        "\n",
        "grid_search_xgb = GridSearchCV(pipeline, param_grid,\n",
        "                           cv=5, scoring=scorer,\n",
        "                           verbose=1, n_jobs=-1)\n",
        "\n",
        "grid_search_xgb.fit(X_train, y_train)\n",
        "\n",
        "best_xgb = grid_search_xgb.best_score_\n",
        "\n",
        "print(f'Best hyperparameters: {grid_search_xgb.best_params_}')\n",
        "print(f'Best score: {round(best_xgb, 5)}')"
      ]
    },
    {
      "cell_type": "markdown",
      "metadata": {},
      "source": [
        "### CatBoost Classifier"
      ]
    },
    {
      "cell_type": "code",
      "execution_count": 26,
      "metadata": {
        "id": "9ITSNKzfjuF-"
      },
      "outputs": [
        {
          "name": "stdout",
          "output_type": "stream",
          "text": [
            "Fitting 5 folds for each of 108 candidates, totalling 540 fits\n"
          ]
        },
        {
          "name": "stderr",
          "output_type": "stream",
          "text": [
            "C:\\Users\\Олег\\AppData\\Local\\Packages\\PythonSoftwareFoundation.Python.3.11_qbz5n2kfra8p0\\LocalCache\\local-packages\\Python311\\site-packages\\sklearn\\metrics\\_scorer.py:610: FutureWarning: The `needs_threshold` and `needs_proba` parameter are deprecated in version 1.4 and will be removed in 1.6. You can either let `response_method` be `None` or set it to `predict` to preserve the same behaviour.\n",
            "  warnings.warn(\n"
          ]
        },
        {
          "name": "stdout",
          "output_type": "stream",
          "text": [
            "Best hyperparameters: {'border_count': 128, 'depth': 6, 'l2_leaf_reg': 1, 'learning_rate': 0.2, 'n_estimators': 200}\n",
            "Best score: 0.83638\n"
          ]
        }
      ],
      "source": [
        "catboost_clf = CatBoostClassifier(\n",
        "    silent=True,  # Отключаем вывод в лог\n",
        "    random_state=SEED\n",
        ")\n",
        "\n",
        "param_grid = {\n",
        "    'n_estimators': [100, 200],  # number of trees\n",
        "    'learning_rate': [0.01, 0.1, 0.2],  # learning rate\n",
        "    'depth': [4, 6, 8],  # tree depth\n",
        "    'l2_leaf_reg': [1, 3],  # L2 regularization coefficient\n",
        "    'border_count': [32, 64, 128]  # number of splits for numerical features\n",
        "}\n",
        "\n",
        "scorer = make_scorer(roc_auc_score, needs_proba=True)\n",
        "\n",
        "grid_search_cat = GridSearchCV(catboost_clf, param_grid,\n",
        "                           cv=5, scoring=scorer,\n",
        "                           verbose=1, n_jobs=-1)\n",
        "\n",
        "grid_search_cat.fit(X_train, y_train)\n",
        "\n",
        "best_catboost = grid_search_cat.best_score_\n",
        "\n",
        "print(f'Best hyperparameters: {grid_search_cat.best_params_}')\n",
        "print(f'Best score: {round(best_catboost, 5)}')"
      ]
    },
    {
      "cell_type": "markdown",
      "metadata": {},
      "source": [
        "### Support Vector Machine (SVM)"
      ]
    },
    {
      "cell_type": "code",
      "execution_count": 27,
      "metadata": {},
      "outputs": [
        {
          "name": "stdout",
          "output_type": "stream",
          "text": [
            "Fitting 5 folds for each of 36 candidates, totalling 180 fits\n"
          ]
        },
        {
          "name": "stderr",
          "output_type": "stream",
          "text": [
            "C:\\Users\\Олег\\AppData\\Local\\Packages\\PythonSoftwareFoundation.Python.3.11_qbz5n2kfra8p0\\LocalCache\\local-packages\\Python311\\site-packages\\sklearn\\metrics\\_scorer.py:610: FutureWarning: The `needs_threshold` and `needs_proba` parameter are deprecated in version 1.4 and will be removed in 1.6. You can either let `response_method` be `None` or set it to `predict` to preserve the same behaviour.\n",
            "  warnings.warn(\n"
          ]
        },
        {
          "name": "stdout",
          "output_type": "stream",
          "text": [
            "Best hyperparameters: {'svm__C': 1, 'svm__degree': 2, 'svm__gamma': 'auto', 'svm__kernel': 'rbf'}\n",
            "Best score: 0.65935\n"
          ]
        }
      ],
      "source": [
        "scaler = StandardScaler()\n",
        "svm = SVC(probability=True, random_state=SEED)\n",
        "\n",
        "param_grid = {\n",
        "    'svm__C': [0.1, 1, 10],  # regularization parameter\n",
        "    'svm__kernel': ['linear', 'rbf', 'poly'],  # kernel type\n",
        "    'svm__gamma': ['scale', 'auto'], # kernel parameter for 'rbf' and 'poly'\n",
        "    'svm__degree': [2, 3]  # degree of polynomial for kernel 'poly'\n",
        "}\n",
        "\n",
        "pipeline = Pipeline([\n",
        "    ('scaler', scaler),\n",
        "    ('svm', svm)\n",
        "])\n",
        "\n",
        "scorer = make_scorer(roc_auc_score, needs_proba=True)\n",
        "\n",
        "grid_search_svm = GridSearchCV(pipeline, param_grid,\n",
        "                           cv=5, scoring=scorer,\n",
        "                           verbose=1, n_jobs=-1)\n",
        "\n",
        "grid_search_svm.fit(X_train, y_train)\n",
        "\n",
        "best_svm = grid_search_svm.best_score_\n",
        "\n",
        "print(f'Best hyperparameters: {grid_search_svm.best_params_}')\n",
        "print(f'Best score: {round(best_svm, 5)}')"
      ]
    },
    {
      "cell_type": "code",
      "execution_count": 28,
      "metadata": {},
      "outputs": [
        {
          "name": "stdout",
          "output_type": "stream",
          "text": [
            "                 Метод  Значение метрики\n",
            "5              XGBoost          0.895250\n",
            "4    Gradient Boosting          0.873000\n",
            "3        Random Forest          0.860857\n",
            "6             CatBoost          0.836381\n",
            "7                  SVM          0.659349\n",
            "0  Logistic Regression          0.653777\n",
            "2        Decision Tree          0.605336\n",
            "1                  KNN          0.600956\n"
          ]
        }
      ],
      "source": [
        "# create a dictionary with methods and their metric values ​​(best_XXX)\n",
        "results = {\n",
        "    'Метод': ['Logistic Regression', 'KNN', 'Decision Tree', 'Random Forest', 'Gradient Boosting', \n",
        "              'XGBoost', 'CatBoost', 'SVM'],\n",
        "    'Значение метрики': [best_logreg, best_knn, best_tree, best_forest, best_gb, \n",
        "                         best_xgb, best_catboost, best_svm]\n",
        "}\n",
        "\n",
        "# create a DataFrame\n",
        "df_results = pd.DataFrame(results)\n",
        "\n",
        "# sort the DataFrame in descending order of the metric value\n",
        "df_results_sorted = df_results.sort_values(by='Значение метрики', ascending=False)\n",
        "\n",
        "# display the table\n",
        "print(df_results_sorted)"
      ]
    },
    {
      "cell_type": "code",
      "execution_count": 29,
      "metadata": {},
      "outputs": [
        {
          "name": "stdout",
          "output_type": "stream",
          "text": [
            "ROC AUC on test data: 0.85390\n"
          ]
        }
      ],
      "source": [
        "# predict probabilities for the positive class\n",
        "y_pred_proba = grid_search_xgb.best_estimator_.predict_proba(X_test)[:, 1]\n",
        "\n",
        "# we calculate the metric by comparing the predicted and actual values\n",
        "roc_auc = roc_auc_score(y_test, y_pred_proba)\n",
        "\n",
        "print(f'ROC AUC on test data: {roc_auc:.5f}')"
      ]
    },
    {
      "cell_type": "code",
      "execution_count": 30,
      "metadata": {},
      "outputs": [
        {
          "data": {
            "image/png": "[encoded data removed]",
            "text/plain": [
              "<Figure size 800x600 with 1 Axes>"
            ]
          },
          "metadata": {},
          "output_type": "display_data"
        }
      ],
      "source": [
        "# building a ROC curve\n",
        "fpr, tpr, thresholds = roc_curve(y_test, y_pred_proba)\n",
        "\n",
        "# plotting a graph\n",
        "plt.figure(figsize=(8, 6))\n",
        "plt.plot(fpr, tpr, color='blue', lw=2, label=f'ROC curve (area = {roc_auc:.2f})')\n",
        "plt.plot([0, 1], [0, 1], color='gray', linestyle='--')  # random prediction line\n",
        "plt.xlim([0.0, 1.0])\n",
        "plt.ylim([0.0, 1.05])\n",
        "plt.xlabel('False Positive Rate (1 - Specificity)')\n",
        "plt.ylabel('True Positive Rate (Sensitivity)')\n",
        "plt.title('ROC Curve for XGBoost Model')\n",
        "plt.legend(loc=\"lower right\")\n",
        "plt.grid(True)\n",
        "plt.show()"
      ]
    },
    {
      "cell_type": "code",
      "execution_count": 31,
      "metadata": {},
      "outputs": [
        {
          "name": "stdout",
          "output_type": "stream",
          "text": [
            "                                                Feature  Importance\n",
            "18                                           Missed_max    0.082235\n",
            "27                                          RepassCount    0.065574\n",
            "12                                       StrResult_mode    0.063528\n",
            "1504  Faculty_М факультет городского и регионального...    0.046332\n",
            "62                               Speciality_Политология    0.034942\n",
            "13                                        StrResult_min    0.032629\n",
            "3                                              MarkSumm    0.030898\n",
            "4070                            HigherDocSpec_Логопедия    0.029458\n",
            "1                                         AdmissionYear    0.029447\n",
            "9                                                  Good    0.028644\n"
          ]
        }
      ],
      "source": [
        "# get feature importance from XGBClassifier\n",
        "xgb_model = grid_search_xgb.best_estimator_.named_steps['xgb_clf']\n",
        "\n",
        "# We get a list of features that the model used\n",
        "encoded_feature_names = student_data_encoded.columns\n",
        "\n",
        "# create a DataFrame for only those features that were used by the model\n",
        "importance_df = pd.DataFrame({\n",
        "    'Feature': encoded_feature_names[:len(xgb_model.feature_importances_)],\n",
        "    'Importance': xgb_model.feature_importances_\n",
        "})\n",
        "\n",
        "# sort by importance\n",
        "importance_df = importance_df.sort_values(by='Importance', ascending=False)\n",
        "\n",
        "print(importance_df.head(10))"
      ]
    },
    {
      "cell_type": "code",
      "execution_count": 32,
      "metadata": {},
      "outputs": [],
      "source": [
        "# save the model for further use\n",
        "xgb_model.save_model('xgb_model.json')"
      ]
    },
    {
      "cell_type": "code",
      "execution_count": 33,
      "metadata": {},
      "outputs": [],
      "source": [
        "# (optional) load the resulting model to make sure \n",
        "# it was saved correctly and there are no errors\n",
        "best_xgb_model = xgb.XGBClassifier()\n",
        "best_xgb_model.load_model('xgb_model.json')"
      ]
    },
    {
      "cell_type": "code",
      "execution_count": null,
      "metadata": {},
      "outputs": [],
      "source": []
    }
  ],
  "metadata": {
    "colab": {
      "provenance": []
    },
    "kernelspec": {
      "display_name": "Python 3",
      "name": "python3"
    },
    "language_info": {
      "codemirror_mode": {
        "name": "ipython",
        "version": 3
      },
      "file_extension": ".py",
      "mimetype": "text/x-python",
      "name": "python",
      "nbconvert_exporter": "python",
      "pygments_lexer": "ipython3",
      "version": "3.11.9"
    }
  },
  "nbformat": 4,
  "nbformat_minor": 0
}
